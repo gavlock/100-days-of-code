{
 "cells": [
  {
   "cell_type": "code",
   "execution_count": 1,
   "metadata": {},
   "outputs": [
    {
     "name": "stdout",
     "output_type": "stream",
     "text": [
      "(500, 4096)\n",
      "(500, 122)\n"
     ]
    }
   ],
   "source": [
    "import itertools\n",
    "import numpy as np\n",
    "from samples.maps import read_samples as read_maps_samples, get_onset_clip\n",
    "import tensorflow as tf\n",
    "from tensorflow import keras\n",
    "\n",
    "note_count = 122\n",
    "window_size = 4096\n",
    "channel = 0\n",
    "\n",
    "max_samples = 500\n",
    "batch = itertools.islice(read_maps_samples('/datasets/audio/maps'), max_samples)\n",
    "\n",
    "def prepare_sample(sample):\n",
    "    clip = get_onset_clip(sample, channel, window_size)\n",
    "    return [clip['window'], clip['note']]\n",
    "\n",
    "samples = np.array(list(prepare_sample(sample) for sample in batch)).transpose()\n",
    "\n",
    "inputs = np.stack(samples[0])\n",
    "labels = np.stack(samples[1])\n",
    "\n",
    "labels = tf.keras.utils.to_categorical(labels, num_classes = note_count)\n",
    "\n",
    "print(inputs.shape)\n",
    "print(labels.shape)\n",
    "# tf.convert_to_tensor(inputs)\n",
    "\n"
   ]
  },
  {
   "cell_type": "code",
   "execution_count": 2,
   "metadata": {},
   "outputs": [
    {
     "name": "stdout",
     "output_type": "stream",
     "text": [
      "Model: \"sequential\"\n",
      "_________________________________________________________________\n",
      "Layer (type)                 Output Shape              Param #   \n",
      "=================================================================\n",
      "lambda (Lambda)              (None, 2049)              0         \n",
      "_________________________________________________________________\n",
      "dense (Dense)                (None, 2049)              4200450   \n",
      "_________________________________________________________________\n",
      "dropout (Dropout)            (None, 2049)              0         \n",
      "_________________________________________________________________\n",
      "dense_1 (Dense)              (None, 122)               250100    \n",
      "=================================================================\n",
      "Total params: 4,450,550\n",
      "Trainable params: 4,450,550\n",
      "Non-trainable params: 0\n",
      "_________________________________________________________________\n",
      "Epoch 1/15\n",
      "1/1 [==============================] - 0s 2ms/step - loss: 10.5906 - accuracy: 0.0080\n",
      "Epoch 2/15\n",
      "1/1 [==============================] - 0s 1ms/step - loss: 8.8716 - accuracy: 0.0460\n",
      "Epoch 3/15\n",
      "1/1 [==============================] - 0s 1000us/step - loss: 7.7044 - accuracy: 0.1280\n",
      "Epoch 4/15\n",
      "1/1 [==============================] - 0s 996us/step - loss: 7.2266 - accuracy: 0.1960\n",
      "Epoch 5/15\n",
      "1/1 [==============================] - 0s 2ms/step - loss: 6.8584 - accuracy: 0.2600\n",
      "Epoch 6/15\n",
      "1/1 [==============================] - 0s 999us/step - loss: 6.3886 - accuracy: 0.3560\n",
      "Epoch 7/15\n",
      "1/1 [==============================] - 0s 1ms/step - loss: 6.0276 - accuracy: 0.4420\n",
      "Epoch 8/15\n",
      "1/1 [==============================] - 0s 1ms/step - loss: 5.7285 - accuracy: 0.5040\n",
      "Epoch 9/15\n",
      "1/1 [==============================] - 0s 2ms/step - loss: 5.3882 - accuracy: 0.5640\n",
      "Epoch 10/15\n",
      "1/1 [==============================] - 0s 3ms/step - loss: 4.9340 - accuracy: 0.5900\n",
      "Epoch 11/15\n",
      "1/1 [==============================] - 0s 2ms/step - loss: 4.7711 - accuracy: 0.6380\n",
      "Epoch 12/15\n",
      "1/1 [==============================] - 0s 2ms/step - loss: 4.4921 - accuracy: 0.6560\n",
      "Epoch 13/15\n",
      "1/1 [==============================] - 0s 2ms/step - loss: nan - accuracy: 0.6880\n",
      "Epoch 14/15\n",
      "1/1 [==============================] - 0s 1000us/step - loss: nan - accuracy: 0.0000e+00\n",
      "Epoch 15/15\n",
      "1/1 [==============================] - 0s 2ms/step - loss: nan - accuracy: 0.0000e+00\n"
     ]
    }
   ],
   "source": [
    "model = keras.Sequential()\n",
    "model.add(keras.layers.Input(shape=(window_size)))\n",
    "model.add(keras.layers.Lambda(tf.signal.rfft))\n",
    "model.add(keras.layers.Dense(window_size/2 + 1, activation='relu'))\n",
    "model.add(keras.layers.Dropout(0.5))\n",
    "model.add(keras.layers.Dense(note_count, activation='relu'))\n",
    "\n",
    "model.compile(optimizer=keras.optimizers.Adam(lr=0.001, clipnorm=0.1),\n",
    "              #optimizer='rmsprop',              \n",
    "              loss='categorical_crossentropy',\n",
    "              #loss='mean_squared_error',\n",
    "              metrics=['accuracy'])\n",
    "\n",
    "model.summary()\n",
    "\n",
    "history = model.fit(inputs, labels, batch_size=500, epochs=15)"
   ]
  },
  {
   "cell_type": "code",
   "execution_count": 3,
   "metadata": {},
   "outputs": [
    {
     "data": {
      "image/png": "[encoded data removed]",
      "text/plain": [
       "<Figure size 432x288 with 2 Axes>"
      ]
     },
     "metadata": {
      "needs_background": "light"
     },
     "output_type": "display_data"
    }
   ],
   "source": [
    "import matplotlib.pyplot as plt\n",
    "\n",
    "fig, ax1 = plt.subplots()\n",
    "ax1.set_xlabel('epoch')\n",
    "ax1.set_ylabel('loss', color='red')\n",
    "\n",
    "ax2 = ax1.twinx()\n",
    "ax2.set_ylabel('accuracy', color='blue')\n",
    "ax2.set_ylim(0, 1)\n",
    "\n",
    "ax1.plot(history.history['loss'], label='loss', color='red')\n",
    "ax2.plot(history.history['accuracy'], label='accuracy', color='blue')\n",
    "fig.legend()\n",
    "plt.show()"
   ]
  }
 ],
 "metadata": {
  "kernelspec": {
   "display_name": "Python 3",
   "language": "python",
   "name": "python3"
  },
  "language_info": {
   "codemirror_mode": {
    "name": "ipython",
    "version": 3
   },
   "file_extension": ".py",
   "mimetype": "text/x-python",
   "name": "python",
   "nbconvert_exporter": "python",
   "pygments_lexer": "ipython3",
   "version": "3.8.6"
  }
 },
 "nbformat": 4,
 "nbformat_minor": 4
}
