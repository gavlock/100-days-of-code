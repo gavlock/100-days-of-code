{
 "cells": [
  {
   "cell_type": "markdown",
   "metadata": {},
   "source": [
    "# Test refactored dataset"
   ]
  },
  {
   "cell_type": "code",
   "execution_count": 1,
   "metadata": {},
   "outputs": [],
   "source": [
    "from samples.dataset import Dataset\n",
    "from samples.sources.maps import MAPS"
   ]
  },
  {
   "cell_type": "code",
   "execution_count": 2,
   "metadata": {},
   "outputs": [
    {
     "name": "stdout",
     "output_type": "stream",
     "text": [
      "/datasets/audio/maps\\ENSTDkAm\\ISOL/NO\\MAPS_ISOL_NO_F_S0_M65_ENSTDkAm.wav\n",
      "/datasets/audio/maps\\ENSTDkAm\\ISOL/NO\\MAPS_ISOL_NO_M_S1_M65_ENSTDkAm.wav\n",
      "/datasets/audio/maps\\ENSTDkAm\\ISOL/NO\\MAPS_ISOL_NO_P_S0_M65_ENSTDkAm.wav\n",
      "/datasets/audio/maps\\StbgTGd2\\ISOL/NO\\MAPS_ISOL_NO_F_S1_M65_StbgTGd2.wav\n",
      "/datasets/audio/maps\\StbgTGd2\\ISOL/NO\\MAPS_ISOL_NO_M_S1_M65_StbgTGd2.wav\n",
      "/datasets/audio/maps\\StbgTGd2\\ISOL/NO\\MAPS_ISOL_NO_P_S0_M65_StbgTGd2.wav\n",
      "\n",
      "Sample rate: 44100\n",
      "\n",
      "Onset clip: [[-0.00012207]\n",
      " [-0.00064087]\n",
      " [-0.00085449]\n",
      " [-0.00048828]\n",
      " [ 0.00027466]\n",
      " [ 0.00158691]\n",
      " [ 0.00314331]\n",
      " [ 0.00430298]]\n",
      "\n",
      "Random clip: [[0.05889893]\n",
      " [0.05923462]\n",
      " [0.05996704]\n",
      " [0.06130981]\n",
      " [0.0632019 ]\n",
      " [0.06564331]\n",
      " [0.06820679]\n",
      " [0.07058716]]\n"
     ]
    }
   ],
   "source": [
    "dataset = Dataset()\n",
    "dataset.add_datasource(MAPS('/datasets/audio/maps'))\n",
    "\n",
    "for sample in dataset.notes[54].samples:\n",
    "    print(sample.filename)\n",
    "    \n",
    "print(\"\\nSample rate: {0}\".format(dataset.notes[54].samples[0].get_sample_rate()))\n",
    "\n",
    "print(\"\\nOnset clip: {0}\".format(dataset.notes[54].samples[0].get_onset_clip(8)))\n",
    "\n",
    "print(\"\\nRandom clip: {0}\".format(dataset.notes[54].samples[0].get_random_clip(8)))"
   ]
  }
 ],
 "metadata": {
  "kernelspec": {
   "display_name": "Python 3",
   "language": "python",
   "name": "python3"
  },
  "language_info": {
   "codemirror_mode": {
    "name": "ipython",
    "version": 3
   },
   "file_extension": ".py",
   "mimetype": "text/x-python",
   "name": "python",
   "nbconvert_exporter": "python",
   "pygments_lexer": "ipython3",
   "version": "3.8.6"
  }
 },
 "nbformat": 4,
 "nbformat_minor": 4
}
