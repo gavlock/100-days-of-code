{
 "cells": [
  {
   "cell_type": "markdown",
   "metadata": {},
   "source": [
    "# Refactoring Dataset Importing\n",
    "\n",
    "## Note-centric dataset\n",
    "\n",
    "Rather than viewing the data as a collection of data sources (such as MAPS), each containing a collection of instruments, each of which contains a collection of note samples, I would like to conside the notes themselves as the primary assets of the dataset.\n",
    "\n",
    "I will define a dataset class, which contains a collection of notes.\n",
    "\n",
    "Each note will contain a collection of samples from various instruments from various datasets.\n",
    "\n",
    "Data source classes will be used to populate the dataset.\n",
    "\n",
    "## Notes\n",
    "\n",
    "A `Note` object represents a single note from C0 to B9.\n",
    "\n",
    "Each note has a *note index*. The index for a note is a count of how many semitones that note is above C♭0 (that is, the B immediately below C0). This means that the note index for C0 is 1, while B9's index is 120.\n",
    "\n",
    "Note index 0 is used to represent the lack of a note. This could mean silence, but in the context of pitch detection it could also mean sound (non-silence) that does not contain any discernable notes.\n",
    "\n",
    "The `Note` object contains a list of `NoteSamples` for that note, drawn from a variety of data sources and instruments."
   ]
  },
  {
   "cell_type": "code",
   "execution_count": 1,
   "metadata": {},
   "outputs": [],
   "source": [
    "class Note:\n",
    "    def __init__(self, index):\n",
    "        self.index = index\n",
    "        self.samples = []\n",
    "        \n",
    "    def add_sample(self, sample):\n",
    "        self.samples.append(sample)\n",
    "\n",
    "\n",
    "class Silence:\n",
    "    pass"
   ]
  },
  {
   "cell_type": "markdown",
   "metadata": {},
   "source": [
    "## Note samples\n",
    "\n",
    "Each `NoteSample` provides access to the audio waveform of a single note. Details of how the waveform is stored and/or accessed from its data source are provided by specialisations of the `NoteSample` class.\n",
    "\n",
    "Note samples can provide subsets of their waveform data as *clips*. A clip represents a portion of the waveform that could be returned from an audio API as one recording *window* (or *buffer*).\n",
    "\n",
    "The *onset* of a note is the time at which that note's key was struck. The *onset clip* is clip of the desired length starting at the onset of the note.\n",
    "\n",
    "The *offset* of a note is the time at which it's key was released. A *random clip* is clip of the desired length starting at, or after, the onset of the note - and ending at, or before, the note's offset.\n",
    "\n",
    "Onset and offset \"times\" are represented as indexes into the note sample's waveform array."
   ]
  },
  {
   "cell_type": "code",
   "execution_count": 2,
   "metadata": {},
   "outputs": [],
   "source": [
    "class NoteSample:\n",
    "    def __init(self, onset, offset):\n",
    "        self.onset = onset\n",
    "        self.offset = offset\n",
    "    \n",
    "    def get_onset_clip(self, window_size):\n",
    "        assert offset > self.onset + window_size\n",
    "        return self.get_audio()[self.onset:(self.onset + window_size)]\n",
    "        \n",
    "    def get_random_clip(self, window_size):\n",
    "        pass"
   ]
  },
  {
   "cell_type": "markdown",
   "metadata": {},
   "source": [
    "\n",
    "\n",
    "### File-based note samples\n",
    "\n",
    "The waveform is loaded lazily, and is then cached. The cache can be cleared at any time."
   ]
  },
  {
   "cell_type": "code",
   "execution_count": 3,
   "metadata": {},
   "outputs": [],
   "source": [
    "class FileBasedNoteSample:\n",
    "    def __init(self, filename):\n",
    "        self.filename = filename\n",
    "        self.waveform = None\n",
    "    \n",
    "    def clear():\n",
    "        self.waveform = None\n",
    "        \n",
    "    def get_waveform():\n",
    "        return self.waveform"
   ]
  },
  {
   "cell_type": "markdown",
   "metadata": {},
   "source": [
    "## The dataset\n",
    "\n",
    "The dataset reprsents the collection of all note samples, grouped by note, from all the instruments in all the datasources.\n",
    "\n",
    "Typical usage would look something like:\n",
    "\n",
    "``` python\n",
    "    dataset = Dataset()\n",
    "    dataset.add_datasource(MAPS('/datasets/audio/maps'))\n",
    "    dataset.add_datasource(...)\n",
    "    dataset.add_datasource(...)\n",
    "    \n",
    "    for note in dataset.notes:\n",
    "        ...\n",
    "```"
   ]
  },
  {
   "cell_type": "code",
   "execution_count": 4,
   "metadata": {},
   "outputs": [],
   "source": [
    "class Dataset:\n",
    "    MAX_NOTE_INDEX = 121\n",
    "    \n",
    "    def __init__(self):\n",
    "        self.notes = [Silence()]\n",
    "        self.notes.extend(Note(index) for index in range(1, Dataset.MAX_NOTE_INDEX + 1))\n",
    "        pass\n",
    "    \n",
    "    def add_datasource(self, datasource):\n",
    "        for sample in datasource.get_samples:\n",
    "            self.notes[sample.note_index].add_sample(sample)"
   ]
  },
  {
   "cell_type": "markdown",
   "metadata": {},
   "source": [
    "## Data sources"
   ]
  },
  {
   "cell_type": "code",
   "execution_count": 5,
   "metadata": {},
   "outputs": [],
   "source": [
    "class DataSource:\n",
    "    def get_samples():\n",
    "        pass\n",
    "    \n",
    "    \n",
    "class MAPS(DataSource):\n",
    "    def __init__(self, root_directory):\n",
    "        pass\n",
    "    \n",
    "    def get_samples():\n",
    "        pass"
   ]
  }
 ],
 "metadata": {
  "kernelspec": {
   "display_name": "Python 3",
   "language": "python",
   "name": "python3"
  },
  "language_info": {
   "codemirror_mode": {
    "name": "ipython",
    "version": 3
   },
   "file_extension": ".py",
   "mimetype": "text/x-python",
   "name": "python",
   "nbconvert_exporter": "python",
   "pygments_lexer": "ipython3",
   "version": "3.8.6"
  }
 },
 "nbformat": 4,
 "nbformat_minor": 4
}
