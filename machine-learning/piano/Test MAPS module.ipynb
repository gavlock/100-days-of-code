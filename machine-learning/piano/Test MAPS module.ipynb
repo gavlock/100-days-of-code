{
 "cells": [
  {
   "cell_type": "code",
   "execution_count": 1,
   "metadata": {},
   "outputs": [
    {
     "data": {
      "text/plain": [
       "{'instrument': 'ENSTDkAm',\n",
       " 'sample': 'MAPS_ISOL_NO_F_S0_M100_ENSTDkAm',\n",
       " 'sample_rate': 44100,\n",
       " 'audio': array([[ 1,  9],\n",
       "        [ 0,  7],\n",
       "        [-1,  7],\n",
       "        ...,\n",
       "        [19, 19],\n",
       "        [18, 17],\n",
       "        [18, 18]], dtype=int16),\n",
       " 'notes': [{'onset': '0.51599', 'offset': '2.521', 'midi_pitch': '100'}]}"
      ]
     },
     "execution_count": 1,
     "metadata": {},
     "output_type": "execute_result"
    }
   ],
   "source": [
    "from samples.maps import read_samples as read_maps_samples\n",
    "\n",
    "next(read_maps_samples('/datasets/audio/maps'))"
   ]
  }
 ],
 "metadata": {
  "kernelspec": {
   "display_name": "Python 3",
   "language": "python",
   "name": "python3"
  },
  "language_info": {
   "codemirror_mode": {
    "name": "ipython",
    "version": 3
   },
   "file_extension": ".py",
   "mimetype": "text/x-python",
   "name": "python",
   "nbconvert_exporter": "python",
   "pygments_lexer": "ipython3",
   "version": "3.8.6"
  }
 },
 "nbformat": 4,
 "nbformat_minor": 4
}
